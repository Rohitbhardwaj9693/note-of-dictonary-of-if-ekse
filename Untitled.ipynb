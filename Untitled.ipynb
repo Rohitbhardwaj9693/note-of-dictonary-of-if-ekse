{
 "cells": [
  {
   "cell_type": "code",
   "execution_count": 1,
   "id": "80cdcdaf-b338-4655-8256-d1e6c258760f",
   "metadata": {},
   "outputs": [],
   "source": [
    "d={}"
   ]
  },
  {
   "cell_type": "code",
   "execution_count": 2,
   "id": "ac7d7eca-81bd-4104-a7ba-c2c205ad99af",
   "metadata": {},
   "outputs": [
    {
     "data": {
      "text/plain": [
       "dict"
      ]
     },
     "execution_count": 2,
     "metadata": {},
     "output_type": "execute_result"
    }
   ],
   "source": [
    "type(d)"
   ]
  },
  {
   "cell_type": "code",
   "execution_count": 3,
   "id": "deeb51e5-3c03-4967-b51a-97965383b057",
   "metadata": {},
   "outputs": [],
   "source": [
    "d1={\"key\" :\"rohit\"}"
   ]
  },
  {
   "cell_type": "code",
   "execution_count": 4,
   "id": "06ec61d9-0852-4de2-8d99-baaa82aa5fb3",
   "metadata": {},
   "outputs": [
    {
     "data": {
      "text/plain": [
       "{'key': 'rohit'}"
      ]
     },
     "execution_count": 4,
     "metadata": {},
     "output_type": "execute_result"
    }
   ],
   "source": [
    "d1"
   ]
  },
  {
   "cell_type": "code",
   "execution_count": 5,
   "id": "12c20ad3-8ed7-49c8-8854-b608f447c96b",
   "metadata": {},
   "outputs": [
    {
     "data": {
      "text/plain": [
       "'rohit'"
      ]
     },
     "execution_count": 5,
     "metadata": {},
     "output_type": "execute_result"
    }
   ],
   "source": [
    "d1[\"key\"]"
   ]
  },
  {
   "cell_type": "code",
   "execution_count": 23,
   "id": "68585086-ba31-4f84-8022-2f2e1e3e8785",
   "metadata": {},
   "outputs": [],
   "source": [
    "d2={'name' :\"rohit\",'roll' : 863 ,'class' : \"cse\" ,'class_date' : (12,3,2022),'class_time' :{'os':12,'python':11,'lunch_time':1,'faculty':{'rishi':'data'}}}"
   ]
  },
  {
   "cell_type": "raw",
   "id": "138e91d8-31e4-410d-9239-d98aac475e07",
   "metadata": {},
   "source": [
    "d2"
   ]
  },
  {
   "cell_type": "code",
   "execution_count": 24,
   "id": "5406b1a9-cea3-44c5-9fc8-aba86261e606",
   "metadata": {},
   "outputs": [],
   "source": [
    "r=12"
   ]
  },
  {
   "cell_type": "code",
   "execution_count": 25,
   "id": "391138ae-44cc-4263-91a3-339bd85ebbdd",
   "metadata": {},
   "outputs": [
    {
     "data": {
      "text/plain": [
       "12"
      ]
     },
     "execution_count": 25,
     "metadata": {},
     "output_type": "execute_result"
    }
   ],
   "source": [
    "r"
   ]
  },
  {
   "cell_type": "code",
   "execution_count": 26,
   "id": "f736ac6f-687b-4332-80f9-ec3aedcb33d1",
   "metadata": {},
   "outputs": [
    {
     "data": {
      "text/plain": [
       "{'name': 'rohit',\n",
       " 'roll': 863,\n",
       " 'class': 'cse',\n",
       " 'class_date': (12, 3, 2022),\n",
       " 'class_time': {'os': 12,\n",
       "  'python': 11,\n",
       "  'lunch_time': 1,\n",
       "  'faculty': {'rishi': 'data'}}}"
      ]
     },
     "execution_count": 26,
     "metadata": {},
     "output_type": "execute_result"
    }
   ],
   "source": [
    "d2"
   ]
  },
  {
   "cell_type": "code",
   "execution_count": 29,
   "id": "4f83d660-f316-4b3e-bba6-ab061cd6aada",
   "metadata": {},
   "outputs": [
    {
     "data": {
      "text/plain": [
       "'data'"
      ]
     },
     "execution_count": 29,
     "metadata": {},
     "output_type": "execute_result"
    }
   ],
   "source": [
    "d2['class_time']['faculty']['rishi']"
   ]
  },
  {
   "cell_type": "code",
   "execution_count": 32,
   "id": "c33aa1d2-0076-4906-b8c2-fcc8b93b1587",
   "metadata": {},
   "outputs": [
    {
     "data": {
      "text/plain": [
       "3"
      ]
     },
     "execution_count": 32,
     "metadata": {},
     "output_type": "execute_result"
    }
   ],
   "source": [
    "d2['class_date'][1]"
   ]
  },
  {
   "cell_type": "code",
   "execution_count": 33,
   "id": "0e231941-52c9-4630-b578-5283038d88c7",
   "metadata": {},
   "outputs": [
    {
     "data": {
      "text/plain": [
       "dict_keys(['name', 'roll', 'class', 'class_date', 'class_time'])"
      ]
     },
     "execution_count": 33,
     "metadata": {},
     "output_type": "execute_result"
    }
   ],
   "source": [
    "d2.keys()"
   ]
  },
  {
   "cell_type": "code",
   "execution_count": 35,
   "id": "054dd5ba-23a1-460a-a35f-1db2b3c84441",
   "metadata": {},
   "outputs": [
    {
     "data": {
      "text/plain": [
       "['rohit',\n",
       " 863,\n",
       " 'cse',\n",
       " (12, 3, 2022),\n",
       " {'os': 12, 'python': 11, 'lunch_time': 1, 'faculty': {'rishi': 'data'}}]"
      ]
     },
     "execution_count": 35,
     "metadata": {},
     "output_type": "execute_result"
    }
   ],
   "source": [
    "list(d2.values())"
   ]
  },
  {
   "cell_type": "code",
   "execution_count": 36,
   "id": "2a6d80ae-4404-40ee-a1fe-ef2178f28d22",
   "metadata": {},
   "outputs": [
    {
     "data": {
      "text/plain": [
       "['name', 'roll', 'class', 'class_date', 'class_time']"
      ]
     },
     "execution_count": 36,
     "metadata": {},
     "output_type": "execute_result"
    }
   ],
   "source": [
    "list(d2.keys())"
   ]
  },
  {
   "cell_type": "code",
   "execution_count": 37,
   "id": "df82cc95-a808-42f0-be87-c72a50a4f342",
   "metadata": {},
   "outputs": [
    {
     "data": {
      "text/plain": [
       "dict_items([('name', 'rohit'), ('roll', 863), ('class', 'cse'), ('class_date', (12, 3, 2022)), ('class_time', {'os': 12, 'python': 11, 'lunch_time': 1, 'faculty': {'rishi': 'data'}})])"
      ]
     },
     "execution_count": 37,
     "metadata": {},
     "output_type": "execute_result"
    }
   ],
   "source": [
    "d2.items()"
   ]
  },
  {
   "cell_type": "code",
   "execution_count": 38,
   "id": "cc30312c-67bb-4a41-bb08-7f9a201cd508",
   "metadata": {},
   "outputs": [
    {
     "data": {
      "text/plain": [
       "[('name', 'rohit'),\n",
       " ('roll', 863),\n",
       " ('class', 'cse'),\n",
       " ('class_date', (12, 3, 2022)),\n",
       " ('class_time',\n",
       "  {'os': 12, 'python': 11, 'lunch_time': 1, 'faculty': {'rishi': 'data'}})]"
      ]
     },
     "execution_count": 38,
     "metadata": {},
     "output_type": "execute_result"
    }
   ],
   "source": [
    "list(d2.items())"
   ]
  },
  {
   "cell_type": "code",
   "execution_count": 39,
   "id": "6c69993a-f86f-488d-991a-a74dd38f5a78",
   "metadata": {},
   "outputs": [
    {
     "ename": "TypeError",
     "evalue": "pop expected at least 1 argument, got 0",
     "output_type": "error",
     "traceback": [
      "\u001b[0;31m---------------------------------------------------------------------------\u001b[0m",
      "\u001b[0;31mTypeError\u001b[0m                                 Traceback (most recent call last)",
      "Cell \u001b[0;32mIn[39], line 1\u001b[0m\n\u001b[0;32m----> 1\u001b[0m \u001b[43md2\u001b[49m\u001b[38;5;241;43m.\u001b[39;49m\u001b[43mpop\u001b[49m\u001b[43m(\u001b[49m\u001b[43m)\u001b[49m\n",
      "\u001b[0;31mTypeError\u001b[0m: pop expected at least 1 argument, got 0"
     ]
    }
   ],
   "source": [
    "d2.pop()"
   ]
  },
  {
   "cell_type": "code",
   "execution_count": 41,
   "id": "54151c81-5d1f-41f1-b801-2ab03c6c05c6",
   "metadata": {},
   "outputs": [
    {
     "data": {
      "text/plain": [
       "'rohit'"
      ]
     },
     "execution_count": 41,
     "metadata": {},
     "output_type": "execute_result"
    }
   ],
   "source": [
    "d2.pop('name')"
   ]
  },
  {
   "cell_type": "code",
   "execution_count": 42,
   "id": "dbdc0216-73b1-4286-9602-98a93479c511",
   "metadata": {},
   "outputs": [
    {
     "data": {
      "text/plain": [
       "{'roll': 863,\n",
       " 'class': 'cse',\n",
       " 'class_date': (12, 3, 2022),\n",
       " 'class_time': {'os': 12,\n",
       "  'python': 11,\n",
       "  'lunch_time': 1,\n",
       "  'faculty': {'rishi': 'data'}}}"
      ]
     },
     "execution_count": 42,
     "metadata": {},
     "output_type": "execute_result"
    }
   ],
   "source": [
    "d2"
   ]
  },
  {
   "cell_type": "code",
   "execution_count": 43,
   "id": "0985d2f2-7cf5-4bf1-9f7e-a6bf67d6d7d3",
   "metadata": {},
   "outputs": [
    {
     "data": {
      "text/plain": [
       "dict_items([('roll', 863), ('class', 'cse'), ('class_date', (12, 3, 2022)), ('class_time', {'os': 12, 'python': 11, 'lunch_time': 1, 'faculty': {'rishi': 'data'}})])"
      ]
     },
     "execution_count": 43,
     "metadata": {},
     "output_type": "execute_result"
    }
   ],
   "source": [
    "d2.items()"
   ]
  },
  {
   "cell_type": "code",
   "execution_count": 44,
   "id": "1b04c88d-6b81-4ee2-af14-9bdd03c06fb6",
   "metadata": {},
   "outputs": [
    {
     "data": {
      "text/plain": [
       "('class_time',\n",
       " {'os': 12, 'python': 11, 'lunch_time': 1, 'faculty': {'rishi': 'data'}})"
      ]
     },
     "execution_count": 44,
     "metadata": {},
     "output_type": "execute_result"
    }
   ],
   "source": [
    "d2.popitem()"
   ]
  },
  {
   "cell_type": "code",
   "execution_count": 59,
   "id": "34ac283a-0fcf-49a1-be72-d111cdf19fbb",
   "metadata": {},
   "outputs": [
    {
     "ename": "AttributeError",
     "evalue": "'tuple' object has no attribute 'append'",
     "output_type": "error",
     "traceback": [
      "\u001b[0;31m---------------------------------------------------------------------------\u001b[0m",
      "\u001b[0;31mAttributeError\u001b[0m                            Traceback (most recent call last)",
      "Cell \u001b[0;32mIn[59], line 5\u001b[0m\n\u001b[1;32m      3\u001b[0m value\u001b[38;5;241m=\u001b[39m[]\n\u001b[1;32m      4\u001b[0m \u001b[38;5;28;01mfor\u001b[39;00m key \u001b[38;5;129;01min\u001b[39;00m d3\u001b[38;5;241m.\u001b[39mitems():\n\u001b[0;32m----> 5\u001b[0m     \u001b[43mkey\u001b[49m\u001b[38;5;241;43m.\u001b[39;49m\u001b[43mappend\u001b[49m(item[\u001b[38;5;241m0\u001b[39m]),value\u001b[38;5;241m.\u001b[39mappend(item[\u001b[38;5;241m1\u001b[39m])\n\u001b[1;32m      7\u001b[0m \u001b[38;5;28mprint\u001b[39m(\u001b[38;5;124m\"\u001b[39m\u001b[38;5;124mkeys\u001b[39m\u001b[38;5;124m\"\u001b[39m) \n",
      "\u001b[0;31mAttributeError\u001b[0m: 'tuple' object has no attribute 'append'"
     ]
    }
   ],
   "source": [
    "d3={'a': \"rohit\", 'b': \"nikhil\",'c':\"ridhi\"}\n",
    "key=[]\n",
    "value=[]\n",
    "for key in d3.items():\n",
    "    key.append(item[0]),value.append(item[1])\n",
    "    \n",
    "print(\"keys\") "
   ]
  },
  {
   "cell_type": "code",
   "execution_count": 47,
   "id": "fb1f5c36-f9a9-468f-8234-5de7e914dd83",
   "metadata": {},
   "outputs": [
    {
     "data": {
      "text/plain": [
       "{'a': 'rohit', 'b': 'nikhil', 'c': 'ridhi'}"
      ]
     },
     "execution_count": 47,
     "metadata": {},
     "output_type": "execute_result"
    }
   ],
   "source": [
    "d3"
   ]
  },
  {
   "cell_type": "code",
   "execution_count": 63,
   "id": "2bb5ba89-f0f9-4d07-ae41-b1050df68b88",
   "metadata": {},
   "outputs": [
    {
     "name": "stdin",
     "output_type": "stream",
     "text": [
      " 50\n"
     ]
    },
    {
     "name": "stdout",
     "output_type": "stream",
     "text": [
      "average\n"
     ]
    }
   ],
   "source": [
    "marks =int(input())\n",
    "if marks >=90:\n",
    "    print(\"topper\")\n",
    "elif marks >=70 and marks <90:\n",
    "    print(\"mini topper\")\n",
    "elif marks >=50 and marks <70:\n",
    "    print(\"average\")\n",
    "else:\n",
    "    print(\"rohit type\")"
   ]
  },
  {
   "cell_type": "code",
   "execution_count": 67,
   "id": "54b7d36e-ae79-45bc-8489-90d304e6ffab",
   "metadata": {},
   "outputs": [
    {
     "name": "stdin",
     "output_type": "stream",
     "text": [
      " -1\n"
     ]
    },
    {
     "name": "stdout",
     "output_type": "stream",
     "text": [
      "false\n"
     ]
    }
   ],
   "source": [
    "x=int(input())\n",
    "if x>0:\n",
    "    print(\"true\")\n",
    "else:\n",
    "     print(\"false\")"
   ]
  },
  {
   "cell_type": "code",
   "execution_count": 76,
   "id": "4f4b5450-5b4f-4475-9167-031168cfdcc3",
   "metadata": {},
   "outputs": [
    {
     "name": "stdin",
     "output_type": "stream",
     "text": [
      " 5\n"
     ]
    },
    {
     "name": "stdout",
     "output_type": "stream",
     "text": [
      "not div\n"
     ]
    }
   ],
   "source": [
    "num=int(input())\n",
    "if num%2==0 and num%3==0:\n",
    "    print(\"div\")\n",
    "else:\n",
    "    print(\"not div\")"
   ]
  },
  {
   "cell_type": "code",
   "execution_count": 79,
   "id": "742f0629-91e5-4796-aa97-a1fec3e8648a",
   "metadata": {},
   "outputs": [
    {
     "name": "stdin",
     "output_type": "stream",
     "text": [
      " -1\n"
     ]
    },
    {
     "name": "stdout",
     "output_type": "stream",
     "text": [
      "negative\n"
     ]
    }
   ],
   "source": [
    "# write a progran a number is posative, negative or zero \n",
    "num = int(input())\n",
    "if num>0:\n",
    "    print(\"posativ\")\n",
    "elif num <0:\n",
    "    print(\"negative\")\n",
    "else:\n",
    "    print(\"zero\")\n"
   ]
  },
  {
   "cell_type": "code",
   "execution_count": 86,
   "id": "e986511e-c511-4a7b-8100-0fd496cf6681",
   "metadata": {},
   "outputs": [
    {
     "name": "stdin",
     "output_type": "stream",
     "text": [
      " 45\n",
      " 67\n",
      " 1\n"
     ]
    },
    {
     "name": "stdout",
     "output_type": "stream",
     "text": [
      "num2\n"
     ]
    }
   ],
   "source": [
    "num1= int(input())\n",
    "num2= int(input())\n",
    "num3= int(input())\n",
    "if num1>num2 :\n",
    "    print('num1')\n",
    "elif num2>num3 :\n",
    "    print('num2')\n",
    "elif num3>num1 :\n",
    "    print('num3')"
   ]
  },
  {
   "cell_type": "code",
   "execution_count": 105,
   "id": "174d1900-6ab2-436c-8ba4-f9f74bb81493",
   "metadata": {},
   "outputs": [
    {
     "name": "stdin",
     "output_type": "stream",
     "text": [
      " 4\n"
     ]
    },
    {
     "name": "stdout",
     "output_type": "stream",
     "text": [
      "30\n"
     ]
    }
   ],
   "source": [
    "# write a program take month number and print dsys in that month\n",
    "m= int(input())\n",
    "if m ==1 or m==3 or m==5 or m==7 or m==8 or m==10 or m==12:\n",
    "    print(31)\n",
    "elif m ==2:\n",
    "    print(28)\n",
    "else:\n",
    "    print(30)"
   ]
  },
  {
   "cell_type": "markdown",
   "id": "2935d48d-6875-4584-afa3-01bbb88a1271",
   "metadata": {},
   "source": []
  },
  {
   "cell_type": "code",
   "execution_count": 1,
   "id": "325bde0b-6670-4c8e-8b1e-ac84e5c3a09e",
   "metadata": {},
   "outputs": [],
   "source": [
    "a=2"
   ]
  },
  {
   "cell_type": "code",
   "execution_count": 2,
   "id": "f269da8f-0a75-4bcd-a913-60236edcd9fa",
   "metadata": {},
   "outputs": [
    {
     "data": {
      "text/plain": [
       "2"
      ]
     },
     "execution_count": 2,
     "metadata": {},
     "output_type": "execute_result"
    }
   ],
   "source": [
    "a"
   ]
  },
  {
   "cell_type": "markdown",
   "id": "edcb857c-f003-44cc-8a10-2698d3b3099a",
   "metadata": {},
   "source": [
    " marks =int(input(\"enter your number\"))\n",
    "if marks > 100 and marks <=100:\n",
    "    print(\"this number is not valif marks >=80 and marks < 90:\n",
    "          print(\"topper\")\n",
    "elif marks >=70 and marks< 80:\n",
    "    print(\"2nd topper\")\n",
    "else :\n",
    "    print(\"rohit catogery\")"
   ]
  },
  {
   "cell_type": "code",
   "execution_count": null,
   "id": "7f363dc8-30fe-4445-8ff9-046bb52bd1e5",
   "metadata": {},
   "outputs": [],
   "source": []
  },
  {
   "cell_type": "code",
   "execution_count": 37,
   "id": "9a352ca3-baa0-492a-9ba3-aae09a545f3a",
   "metadata": {},
   "outputs": [
    {
     "name": "stdin",
     "output_type": "stream",
     "text": [
      "enter your marks 50\n"
     ]
    },
    {
     "name": "stdout",
     "output_type": "stream",
     "text": [
      "a2 batch\n"
     ]
    }
   ],
   "source": [
    "marks = int(input(\"enter your marks\"))\n",
    "if marks >=90 and marks <100:\n",
    "    print(\"tu hai\")\n",
    "elif marks >=70 and marks < 90:\n",
    "     print(\"a1 batch\")\n",
    "elif  marks >=50 and marks <70:\n",
    "     print(\"a2 batch\")"
   ]
  },
  {
   "cell_type": "code",
   "execution_count": 49,
   "id": "b3f0350e-196f-42ac-8b95-61d73fa9096e",
   "metadata": {},
   "outputs": [
    {
     "name": "stdin",
     "output_type": "stream",
     "text": [
      "enter price 400\n"
     ]
    },
    {
     "name": "stdout",
     "output_type": "stream",
     "text": [
      "discomt offer\n"
     ]
    }
   ],
   "source": [
    "price =int(input(\"enter price\"))\n",
    "if price >1000 and price <1500:\n",
    "    print(\"i will puches\")\n",
    "elif price >5000 and   price <10000:\n",
    "    print(\"this is too much\")\n",
    "elif price<2000 and price >1500:\n",
    "    print(\"its ok\")\n",
    "elif price <500 and price >250:\n",
    "    print(\"discomt offer\")\n",
    "else:\n",
    "    print(\"not inttrested\")"
   ]
  },
  {
   "cell_type": "markdown",
   "id": "43038ec2-e7b2-4b38-ae09-75ff814063d8",
   "metadata": {},
   "source": [
    "l= [1,2,3,4,5,6]"
   ]
  },
  {
   "cell_type": "code",
   "execution_count": 50,
   "id": "53e7c542-cbc2-4d0f-bb42-caf919eb7a8f",
   "metadata": {},
   "outputs": [
    {
     "ename": "NameError",
     "evalue": "name 'l' is not defined",
     "output_type": "error",
     "traceback": [
      "\u001b[0;31m---------------------------------------------------------------------------\u001b[0m",
      "\u001b[0;31mNameError\u001b[0m                                 Traceback (most recent call last)",
      "Cell \u001b[0;32mIn[50], line 1\u001b[0m\n\u001b[0;32m----> 1\u001b[0m \u001b[43ml\u001b[49m\n",
      "\u001b[0;31mNameError\u001b[0m: name 'l' is not defined"
     ]
    }
   ],
   "source": [
    "l"
   ]
  },
  {
   "cell_type": "code",
   "execution_count": 51,
   "id": "325f89f4-f584-43f1-be0f-cbea54264861",
   "metadata": {},
   "outputs": [],
   "source": [
    "l=1"
   ]
  },
  {
   "cell_type": "code",
   "execution_count": 52,
   "id": "6c05ded6-a232-4237-bb2b-fb86d5bde3c7",
   "metadata": {},
   "outputs": [
    {
     "data": {
      "text/plain": [
       "1"
      ]
     },
     "execution_count": 52,
     "metadata": {},
     "output_type": "execute_result"
    }
   ],
   "source": [
    "l"
   ]
  },
  {
   "cell_type": "code",
   "execution_count": 53,
   "id": "db97cd37-8904-4fbb-81f1-130ea2971803",
   "metadata": {},
   "outputs": [],
   "source": [
    "l=[1,2,3,4,5,5,6]"
   ]
  },
  {
   "cell_type": "code",
   "execution_count": 54,
   "id": "bf8f37d4-658a-41cf-8a0d-57bca0cb2b7c",
   "metadata": {},
   "outputs": [
    {
     "data": {
      "text/plain": [
       "[1, 2, 3, 4, 5, 5, 6]"
      ]
     },
     "execution_count": 54,
     "metadata": {},
     "output_type": "execute_result"
    }
   ],
   "source": [
    "l"
   ]
  },
  {
   "cell_type": "code",
   "execution_count": 55,
   "id": "dd373af0-8c1a-4560-a3f2-6fa40dcc2647",
   "metadata": {},
   "outputs": [
    {
     "data": {
      "text/plain": [
       "2"
      ]
     },
     "execution_count": 55,
     "metadata": {},
     "output_type": "execute_result"
    }
   ],
   "source": [
    "l[0]+1"
   ]
  },
  {
   "cell_type": "code",
   "execution_count": 56,
   "id": "23ac133a-2d18-4326-95be-88b7b0fbcc6c",
   "metadata": {},
   "outputs": [],
   "source": [
    "l1=[]"
   ]
  },
  {
   "cell_type": "code",
   "execution_count": 57,
   "id": "365527bd-36cc-4f3c-8bff-b6bf9f7bf389",
   "metadata": {},
   "outputs": [],
   "source": [
    "l1.append(l[0]+1)"
   ]
  },
  {
   "cell_type": "code",
   "execution_count": 58,
   "id": "970a354f-3beb-448a-82b8-b5bea7ad8691",
   "metadata": {},
   "outputs": [
    {
     "data": {
      "text/plain": [
       "[2]"
      ]
     },
     "execution_count": 58,
     "metadata": {},
     "output_type": "execute_result"
    }
   ],
   "source": [
    "l1"
   ]
  },
  {
   "cell_type": "code",
   "execution_count": 59,
   "id": "a0dbac4a-e0be-4344-ad60-f941db7111f0",
   "metadata": {},
   "outputs": [
    {
     "data": {
      "text/plain": [
       "[1, 2, 3, 4, 5, 5, 6]"
      ]
     },
     "execution_count": 59,
     "metadata": {},
     "output_type": "execute_result"
    }
   ],
   "source": [
    "l"
   ]
  },
  {
   "cell_type": "code",
   "execution_count": 61,
   "id": "3f1af46d-a493-42a5-9998-cdc3a7c19d97",
   "metadata": {},
   "outputs": [
    {
     "name": "stdout",
     "output_type": "stream",
     "text": [
      "1\n",
      "2\n",
      "3\n",
      "4\n",
      "5\n",
      "5\n",
      "6\n"
     ]
    }
   ],
   "source": [
    "for i in l:\n",
    "    print(i)"
   ]
  },
  {
   "cell_type": "code",
   "execution_count": 68,
   "id": "ed2a82e3-cd13-4d46-92c5-2c6b6c098741",
   "metadata": {},
   "outputs": [
    {
     "name": "stdout",
     "output_type": "stream",
     "text": [
      "2\n",
      "4\n",
      "6\n",
      "8\n",
      "10\n",
      "10\n",
      "12\n"
     ]
    }
   ],
   "source": [
    "l1=[]\n",
    "for i in l:\n",
    "    print(i+i)\n",
    "  "
   ]
  },
  {
   "cell_type": "code",
   "execution_count": 69,
   "id": "2f1d7870-73f0-4e7c-a571-9dee0bd17ad0",
   "metadata": {},
   "outputs": [
    {
     "name": "stdout",
     "output_type": "stream",
     "text": [
      "2\n",
      "3\n",
      "4\n",
      "5\n",
      "6\n",
      "6\n",
      "7\n"
     ]
    }
   ],
   "source": [
    "for i in l:\n",
    "    print(i+1)"
   ]
  },
  {
   "cell_type": "code",
   "execution_count": 70,
   "id": "309086b9-2e86-4140-ba8a-f87a2fbf997b",
   "metadata": {},
   "outputs": [
    {
     "name": "stdout",
     "output_type": "stream",
     "text": [
      "2\n",
      "4\n",
      "6\n",
      "8\n",
      "10\n",
      "10\n",
      "12\n"
     ]
    },
    {
     "data": {
      "text/plain": [
       "[2, 4, 6, 8, 10, 10, 12]"
      ]
     },
     "execution_count": 70,
     "metadata": {},
     "output_type": "execute_result"
    }
   ],
   "source": [
    "l1=[]\n",
    "for i in l:\n",
    "    print(i+i)\n",
    "    l1.append(i+i)\n",
    "l1    "
   ]
  },
  {
   "cell_type": "code",
   "execution_count": 71,
   "id": "370e74eb-aa87-46d9-a815-fe16262e53d8",
   "metadata": {},
   "outputs": [],
   "source": [
    "l=[\"rohit\",\"kumar\",\"pwskills\",\"course\"]"
   ]
  },
  {
   "cell_type": "code",
   "execution_count": 72,
   "id": "83a5dd7b-03c8-4d0b-8540-f72370a4d1e1",
   "metadata": {},
   "outputs": [
    {
     "name": "stdout",
     "output_type": "stream",
     "text": [
      "rohit\n",
      "kumar\n",
      "pwskills\n",
      "course\n"
     ]
    }
   ],
   "source": [
    "for i in l:\n",
    "    print(i)"
   ]
  },
  {
   "cell_type": "code",
   "execution_count": 74,
   "id": "09a702aa-6e48-46a1-a0d2-b954c0699c1e",
   "metadata": {},
   "outputs": [
    {
     "data": {
      "text/plain": [
       "['rohit', 'kumar', 'pwskills', 'course']"
      ]
     },
     "execution_count": 74,
     "metadata": {},
     "output_type": "execute_result"
    }
   ],
   "source": [
    "l1=[]\n",
    "for i in l:\n",
    "    \n",
    "    l1.append(i)\n",
    "l1    "
   ]
  },
  {
   "cell_type": "code",
   "execution_count": 77,
   "id": "929ba64b-31de-49bd-9d87-1dda43421092",
   "metadata": {},
   "outputs": [
    {
     "data": {
      "text/plain": [
       "['ROHIT', 'KUMAR', 'PWSKILLS', 'COURSE']"
      ]
     },
     "execution_count": 77,
     "metadata": {},
     "output_type": "execute_result"
    }
   ],
   "source": [
    "l1=[]\n",
    "for i in l:\n",
    "    l1.append(i.upper())\n",
    "l1    "
   ]
  },
  {
   "cell_type": "code",
   "execution_count": 78,
   "id": "7e26c736-e594-4ff7-b726-0fdc32402ddf",
   "metadata": {},
   "outputs": [],
   "source": [
    "l=[1,2,3,4,'rohhit','kumar','rishi',345]"
   ]
  },
  {
   "cell_type": "code",
   "execution_count": 79,
   "id": "d889b8db-7ef7-4601-8f9c-9d1c0abdd6c1",
   "metadata": {},
   "outputs": [
    {
     "data": {
      "text/plain": [
       "[1, 2, 3, 4, 'rohhit', 'kumar', 'rishi', 345]"
      ]
     },
     "execution_count": 79,
     "metadata": {},
     "output_type": "execute_result"
    }
   ],
   "source": [
    "l"
   ]
  },
  {
   "cell_type": "code",
   "execution_count": 81,
   "id": "92813804-4f19-4861-ac8f-72fb403b6e3c",
   "metadata": {},
   "outputs": [],
   "source": [
    "l1_num=[]\n",
    "l2_str=[]\n",
    "for i in l:\n",
    "    if type (i)== int or type (i)== float:\n",
    "        l1_num.append(i)\n",
    "    else :\n",
    "        l2_str.append(i)"
   ]
  },
  {
   "cell_type": "code",
   "execution_count": 82,
   "id": "c9858e9d-4f50-4264-9f34-69d1eb3f9c5e",
   "metadata": {},
   "outputs": [
    {
     "data": {
      "text/plain": [
       "[1, 2, 3, 4, 345]"
      ]
     },
     "execution_count": 82,
     "metadata": {},
     "output_type": "execute_result"
    }
   ],
   "source": [
    "l1_num"
   ]
  },
  {
   "cell_type": "code",
   "execution_count": 83,
   "id": "999c83b6-e3dc-4827-91ff-55ec80d03622",
   "metadata": {},
   "outputs": [
    {
     "data": {
      "text/plain": [
       "['rohhit', 'kumar', 'rishi']"
      ]
     },
     "execution_count": 83,
     "metadata": {},
     "output_type": "execute_result"
    }
   ],
   "source": [
    "l2_str"
   ]
  },
  {
   "cell_type": "code",
   "execution_count": 91,
   "id": "dee82ffb-18b8-49c3-91ce-c446ffc63454",
   "metadata": {},
   "outputs": [],
   "source": [
    "i=\"rohit\""
   ]
  },
  {
   "cell_type": "markdown",
   "id": "9cf9721c-d3d9-4142-8327-cab21813d9a7",
   "metadata": {},
   "source": [
    "## "
   ]
  },
  {
   "cell_type": "code",
   "execution_count": 95,
   "id": "24416803-7de6-425e-8346-007c3dcc63da",
   "metadata": {},
   "outputs": [],
   "source": [
    "l=['rohit']"
   ]
  },
  {
   "cell_type": "code",
   "execution_count": 96,
   "id": "924a16a0-d157-4d44-bfbe-d6633c3622d6",
   "metadata": {},
   "outputs": [
    {
     "data": {
      "text/plain": [
       "['rohit']"
      ]
     },
     "execution_count": 96,
     "metadata": {},
     "output_type": "execute_result"
    }
   ],
   "source": [
    "l\n"
   ]
  },
  {
   "cell_type": "code",
   "execution_count": 4,
   "id": "cddb020e-6489-4327-b5a0-8006723b8129",
   "metadata": {},
   "outputs": [
    {
     "name": "stdin",
     "output_type": "stream",
     "text": [
      "enter a number 2\n"
     ]
    },
    {
     "ename": "NameError",
     "evalue": "name 'l' is not defined",
     "output_type": "error",
     "traceback": [
      "\u001b[0;31m---------------------------------------------------------------------------\u001b[0m",
      "\u001b[0;31mNameError\u001b[0m                                 Traceback (most recent call last)",
      "Cell \u001b[0;32mIn[4], line 2\u001b[0m\n\u001b[1;32m      1\u001b[0m n\u001b[38;5;241m=\u001b[39m\u001b[38;5;28mint\u001b[39m(\u001b[38;5;28minput\u001b[39m(\u001b[38;5;124m'\u001b[39m\u001b[38;5;124menter a number\u001b[39m\u001b[38;5;124m'\u001b[39m))\n\u001b[0;32m----> 2\u001b[0m \u001b[38;5;28;01mfor\u001b[39;00m n \u001b[38;5;129;01min\u001b[39;00m \u001b[43ml\u001b[49m:\n\u001b[1;32m      3\u001b[0m     \u001b[38;5;28;01mif\u001b[39;00m n\u001b[38;5;241m<\u001b[39m\u001b[38;5;241m=\u001b[39mn\u001b[38;5;241m-\u001b[39m\u001b[38;5;241m1\u001b[39m:\n\u001b[1;32m      4\u001b[0m         \u001b[38;5;28mprint\u001b[39m(n)\n",
      "\u001b[0;31mNameError\u001b[0m: name 'l' is not defined"
     ]
    }
   ],
   "source": [
    "n=int(input('enter a number'))\n",
    "for n in l:\n",
    "    if n<=n-1:\n",
    "        print(n)\n",
    "else:\n",
    "    print(\"inv\")\n",
    "        \n",
    "    "
   ]
  },
  {
   "cell_type": "code",
   "execution_count": null,
   "id": "95e02bd7-d8fb-4b00-bb41-8133957813df",
   "metadata": {},
   "outputs": [],
   "source": [
    "l=[1,2,3,4,5]"
   ]
  },
  {
   "cell_type": "code",
   "execution_count": 5,
   "id": "dcdba130-522d-49c5-aff4-e4d50a963f74",
   "metadata": {},
   "outputs": [
    {
     "ename": "NameError",
     "evalue": "name 'l' is not defined",
     "output_type": "error",
     "traceback": [
      "\u001b[0;31m---------------------------------------------------------------------------\u001b[0m",
      "\u001b[0;31mNameError\u001b[0m                                 Traceback (most recent call last)",
      "Cell \u001b[0;32mIn[5], line 1\u001b[0m\n\u001b[0;32m----> 1\u001b[0m \u001b[43ml\u001b[49m\n",
      "\u001b[0;31mNameError\u001b[0m: name 'l' is not defined"
     ]
    }
   ],
   "source": [
    "l"
   ]
  },
  {
   "cell_type": "code",
   "execution_count": 6,
   "id": "632adace-9431-4de3-9d40-cada73f37b2f",
   "metadata": {},
   "outputs": [],
   "source": [
    "l= [1,2,3,4,5]"
   ]
  },
  {
   "cell_type": "code",
   "execution_count": 7,
   "id": "88ec20c6-25b4-4b35-bc5e-3b7bd0e5e0fd",
   "metadata": {},
   "outputs": [
    {
     "data": {
      "text/plain": [
       "[1, 2, 3, 4, 5]"
      ]
     },
     "execution_count": 7,
     "metadata": {},
     "output_type": "execute_result"
    }
   ],
   "source": [
    "l"
   ]
  },
  {
   "cell_type": "code",
   "execution_count": 8,
   "id": "9003eef5-e5a6-4c41-863d-04e5863862b4",
   "metadata": {},
   "outputs": [
    {
     "name": "stdout",
     "output_type": "stream",
     "text": [
      "1\n",
      "2\n",
      "3\n",
      "4\n",
      "5\n"
     ]
    }
   ],
   "source": [
    "for i in l:\n",
    "    print(i)"
   ]
  },
  {
   "cell_type": "code",
   "execution_count": 10,
   "id": "88e10ccb-7870-4ded-8bc1-c929f0f7637d",
   "metadata": {},
   "outputs": [
    {
     "name": "stdout",
     "output_type": "stream",
     "text": [
      "1 <class 'list'>\n",
      "2 <class 'list'>\n",
      "3 <class 'list'>\n",
      "4 <class 'list'>\n",
      "5 <class 'list'>\n"
     ]
    }
   ],
   "source": [
    "for i in l:\n",
    "    print(i,type(l))"
   ]
  },
  {
   "cell_type": "code",
   "execution_count": 11,
   "id": "0d06f1f8-6a97-49a7-a86b-1ef39a21a2f8",
   "metadata": {},
   "outputs": [
    {
     "name": "stdout",
     "output_type": "stream",
     "text": [
      "1 <class 'int'>\n",
      "2 <class 'int'>\n",
      "3 <class 'int'>\n",
      "4 <class 'int'>\n",
      "5 <class 'int'>\n"
     ]
    }
   ],
   "source": [
    "for i in l:\n",
    "    print(i,type(i))"
   ]
  },
  {
   "cell_type": "code",
   "execution_count": 12,
   "id": "18628150-6038-4e11-8de0-15cd4d04b210",
   "metadata": {},
   "outputs": [],
   "source": [
    "l1=['rohit','kumar','krish','naik']"
   ]
  },
  {
   "cell_type": "code",
   "execution_count": 13,
   "id": "ef4af655-3dcc-4016-915e-b54e50cf41b1",
   "metadata": {},
   "outputs": [
    {
     "data": {
      "text/plain": [
       "['rohit', 'kumar', 'krish', 'naik']"
      ]
     },
     "execution_count": 13,
     "metadata": {},
     "output_type": "execute_result"
    }
   ],
   "source": [
    "l1"
   ]
  },
  {
   "cell_type": "code",
   "execution_count": 15,
   "id": "c5ae5db1-a362-46bb-9c9a-7d7cb7e6fdb7",
   "metadata": {},
   "outputs": [
    {
     "name": "stdout",
     "output_type": "stream",
     "text": [
      "rohit <class 'str'>\n",
      "kumar <class 'str'>\n",
      "krish <class 'str'>\n",
      "naik <class 'str'>\n"
     ]
    }
   ],
   "source": [
    "for i in l1:\n",
    "    print(i,type(i))"
   ]
  },
  {
   "cell_type": "code",
   "execution_count": 16,
   "id": "8fa29b07-6a04-454d-963f-6f4aa9481fef",
   "metadata": {},
   "outputs": [
    {
     "name": "stdout",
     "output_type": "stream",
     "text": [
      "rohit\n",
      "kumar\n",
      "krish\n",
      "naik\n",
      "bhardwaj\n"
     ]
    }
   ],
   "source": [
    "for i in l1:\n",
    "    print(i)\n",
    "else:\n",
    "    print('bhardwaj')"
   ]
  },
  {
   "cell_type": "code",
   "execution_count": 19,
   "id": "356a21c4-f0ca-44b8-ac96-47db5830456b",
   "metadata": {},
   "outputs": [
    {
     "name": "stdout",
     "output_type": "stream",
     "text": [
      "rohit\n"
     ]
    }
   ],
   "source": [
    "for i in l1:\n",
    "    print(i)\n",
    "    break\n",
    "    "
   ]
  },
  {
   "cell_type": "code",
   "execution_count": 21,
   "id": "c05cffdf-396e-409b-b335-ad4702e46873",
   "metadata": {},
   "outputs": [
    {
     "name": "stdout",
     "output_type": "stream",
     "text": [
      "rohit\n",
      "kumar\n"
     ]
    }
   ],
   "source": [
    "for i in l1:\n",
    "    if i== 'krish':\n",
    "        break\n",
    "    print(i)   "
   ]
  },
  {
   "cell_type": "code",
   "execution_count": 22,
   "id": "9a12ddfe-ded3-481f-9a34-09e644440383",
   "metadata": {},
   "outputs": [
    {
     "name": "stdout",
     "output_type": "stream",
     "text": [
      "kumar\n",
      "krish\n",
      "naik\n"
     ]
    }
   ],
   "source": [
    "for i in l1:\n",
    "    if i== 'rohit':\n",
    "        continue\n",
    "    print(i)   "
   ]
  },
  {
   "cell_type": "code",
   "execution_count": 23,
   "id": "73539acb-b9fb-415f-8faa-7dbc4a50805a",
   "metadata": {},
   "outputs": [
    {
     "name": "stdout",
     "output_type": "stream",
     "text": [
      "rohit\n",
      "kumar\n",
      "naik\n",
      "krish\n"
     ]
    }
   ],
   "source": [
    "for i in l1:\n",
    "    if i== 'krish':\n",
    "        continue\n",
    "    print(i)\n",
    "else:\n",
    "    print(\"krish\")"
   ]
  },
  {
   "cell_type": "code",
   "execution_count": 24,
   "id": "dca0d277-2fe8-46e5-a3ab-e3f994fbed78",
   "metadata": {},
   "outputs": [
    {
     "ename": "SyntaxError",
     "evalue": "invalid syntax (2266521921.py, line 5)",
     "output_type": "error",
     "traceback": [
      "\u001b[0;36m  Cell \u001b[0;32mIn[24], line 5\u001b[0;36m\u001b[0m\n\u001b[0;31m    else:\u001b[0m\n\u001b[0m    ^\u001b[0m\n\u001b[0;31mSyntaxError\u001b[0m\u001b[0;31m:\u001b[0m invalid syntax\n"
     ]
    }
   ],
   "source": [
    "for i in l1:\n",
    "    if i== \"krish\":\n",
    "        continue\n",
    "    print(i)\n",
    "    else:\n",
    "        print(\"kridh\")"
   ]
  },
  {
   "cell_type": "code",
   "execution_count": 25,
   "id": "1334c49c-975f-4a6c-9dc1-2979777507e4",
   "metadata": {},
   "outputs": [
    {
     "data": {
      "text/plain": [
       "range(0, 5)"
      ]
     },
     "execution_count": 25,
     "metadata": {},
     "output_type": "execute_result"
    }
   ],
   "source": [
    "range(5)"
   ]
  },
  {
   "cell_type": "code",
   "execution_count": 26,
   "id": "4f78953d-b576-4b64-bb9a-2eb48f3f494a",
   "metadata": {},
   "outputs": [
    {
     "ename": "TypeError",
     "evalue": "'type' object is not subscriptable",
     "output_type": "error",
     "traceback": [
      "\u001b[0;31m---------------------------------------------------------------------------\u001b[0m",
      "\u001b[0;31mTypeError\u001b[0m                                 Traceback (most recent call last)",
      "Cell \u001b[0;32mIn[26], line 1\u001b[0m\n\u001b[0;32m----> 1\u001b[0m \u001b[38;5;28;43mrange\u001b[39;49m\u001b[43m[\u001b[49m\u001b[38;5;241;43m5\u001b[39;49m\u001b[43m]\u001b[49m\n",
      "\u001b[0;31mTypeError\u001b[0m: 'type' object is not subscriptable"
     ]
    }
   ],
   "source": [
    "range[5]"
   ]
  },
  {
   "cell_type": "code",
   "execution_count": 27,
   "id": "c05e7440-b059-4f3a-a571-481d9223889c",
   "metadata": {},
   "outputs": [
    {
     "data": {
      "text/plain": [
       "[0, 1, 2, 3, 4]"
      ]
     },
     "execution_count": 27,
     "metadata": {},
     "output_type": "execute_result"
    }
   ],
   "source": [
    "list(range(5))"
   ]
  },
  {
   "cell_type": "code",
   "execution_count": 28,
   "id": "8286459c-831f-4da9-96c7-e13db563a2b6",
   "metadata": {},
   "outputs": [
    {
     "data": {
      "text/plain": [
       "{0, 1, 2, 3, 4}"
      ]
     },
     "execution_count": 28,
     "metadata": {},
     "output_type": "execute_result"
    }
   ],
   "source": [
    "set(range(5))"
   ]
  },
  {
   "cell_type": "code",
   "execution_count": 29,
   "id": "c5300e7d-9748-40a1-9267-08c1ba823cd1",
   "metadata": {},
   "outputs": [
    {
     "data": {
      "text/plain": [
       "(0, 1, 2, 3, 4)"
      ]
     },
     "execution_count": 29,
     "metadata": {},
     "output_type": "execute_result"
    }
   ],
   "source": [
    "tuple(range(5))"
   ]
  },
  {
   "cell_type": "code",
   "execution_count": 30,
   "id": "15196297-2f9e-416b-82e4-5b7ee5f61ee7",
   "metadata": {},
   "outputs": [
    {
     "ename": "SyntaxError",
     "evalue": "invalid syntax (3863193185.py, line 1)",
     "output_type": "error",
     "traceback": [
      "\u001b[0;36m  Cell \u001b[0;32mIn[30], line 1\u001b[0;36m\u001b[0m\n\u001b[0;31m    range(0:20:2)\u001b[0m\n\u001b[0m           ^\u001b[0m\n\u001b[0;31mSyntaxError\u001b[0m\u001b[0;31m:\u001b[0m invalid syntax\n"
     ]
    }
   ],
   "source": [
    "range(0:20:2)"
   ]
  },
  {
   "cell_type": "code",
   "execution_count": 31,
   "id": "4136865f-4f66-4c53-a3bd-4c310f21b6d5",
   "metadata": {},
   "outputs": [
    {
     "data": {
      "text/plain": [
       "range(0, 20, 2)"
      ]
     },
     "execution_count": 31,
     "metadata": {},
     "output_type": "execute_result"
    }
   ],
   "source": [
    "range(0,20,2)"
   ]
  },
  {
   "cell_type": "code",
   "execution_count": 32,
   "id": "b5eee5e6-6ff8-4254-9600-c4122e385fa8",
   "metadata": {},
   "outputs": [
    {
     "data": {
      "text/plain": [
       "[0, 2, 4, 6, 8, 10, 12, 14, 16, 18]"
      ]
     },
     "execution_count": 32,
     "metadata": {},
     "output_type": "execute_result"
    }
   ],
   "source": [
    "list(range(0,20,2))"
   ]
  },
  {
   "cell_type": "code",
   "execution_count": 33,
   "id": "4d4ab027-5cf1-42fb-aa1f-14b2a08bf438",
   "metadata": {},
   "outputs": [
    {
     "data": {
      "text/plain": [
       "{0, 2, 4, 6, 8, 10, 12, 14, 16, 18}"
      ]
     },
     "execution_count": 33,
     "metadata": {},
     "output_type": "execute_result"
    }
   ],
   "source": [
    "set(range(0,20,2))"
   ]
  },
  {
   "cell_type": "code",
   "execution_count": 34,
   "id": "e95ced44-11f6-4813-b903-7e1e63da64b1",
   "metadata": {},
   "outputs": [
    {
     "data": {
      "text/plain": [
       "['rohit', 'kumar', 'krish', 'naik']"
      ]
     },
     "execution_count": 34,
     "metadata": {},
     "output_type": "execute_result"
    }
   ],
   "source": [
    "l1"
   ]
  },
  {
   "cell_type": "code",
   "execution_count": 35,
   "id": "cb114a1a-d368-446f-9605-19b920099ad6",
   "metadata": {},
   "outputs": [],
   "source": [
    "l=[1,2,3,4,5,6]"
   ]
  },
  {
   "cell_type": "code",
   "execution_count": 36,
   "id": "1511d1d5-3764-416b-b256-79cea64ac288",
   "metadata": {},
   "outputs": [
    {
     "data": {
      "text/plain": [
       "6"
      ]
     },
     "execution_count": 36,
     "metadata": {},
     "output_type": "execute_result"
    }
   ],
   "source": [
    "len(l)"
   ]
  },
  {
   "cell_type": "code",
   "execution_count": 37,
   "id": "6bc46f06-75d6-4986-b7d2-483b81d1b591",
   "metadata": {},
   "outputs": [
    {
     "data": {
      "text/plain": [
       "range(0, 6)"
      ]
     },
     "execution_count": 37,
     "metadata": {},
     "output_type": "execute_result"
    }
   ],
   "source": [
    "range(len(l))"
   ]
  },
  {
   "cell_type": "code",
   "execution_count": 38,
   "id": "3f515e93-21b5-4c51-9249-207231b5f01f",
   "metadata": {},
   "outputs": [
    {
     "data": {
      "text/plain": [
       "[0, 1, 2, 3, 4, 5]"
      ]
     },
     "execution_count": 38,
     "metadata": {},
     "output_type": "execute_result"
    }
   ],
   "source": [
    "list(range(len(l)))"
   ]
  },
  {
   "cell_type": "code",
   "execution_count": 48,
   "id": "3d799e71-eab2-47d4-9b95-5b50e898c7c5",
   "metadata": {},
   "outputs": [
    {
     "data": {
      "text/plain": [
       "[6, 5, 4, 3, 2, 1]"
      ]
     },
     "execution_count": 48,
     "metadata": {},
     "output_type": "execute_result"
    }
   ],
   "source": [
    "l[-1::-1]"
   ]
  },
  {
   "cell_type": "code",
   "execution_count": 49,
   "id": "67c2248d-88b0-46c2-a515-daa375d2f678",
   "metadata": {},
   "outputs": [
    {
     "data": {
      "text/plain": [
       "[1, 2, 3, 4, 5, 6]"
      ]
     },
     "execution_count": 49,
     "metadata": {},
     "output_type": "execute_result"
    }
   ],
   "source": [
    "l"
   ]
  },
  {
   "cell_type": "code",
   "execution_count": 52,
   "id": "fcf9be23-e6f9-4f18-b1fd-fa2236574c94",
   "metadata": {},
   "outputs": [
    {
     "ename": "SyntaxError",
     "evalue": "unmatched ')' (3062891253.py, line 1)",
     "output_type": "error",
     "traceback": [
      "\u001b[0;36m  Cell \u001b[0;32mIn[52], line 1\u001b[0;36m\u001b[0m\n\u001b[0;31m    list(range(l)-1,-1,-1))\u001b[0m\n\u001b[0m                          ^\u001b[0m\n\u001b[0;31mSyntaxError\u001b[0m\u001b[0;31m:\u001b[0m unmatched ')'\n"
     ]
    }
   ],
   "source": [
    "list(-1,-1,-1))"
   ]
  },
  {
   "cell_type": "code",
   "execution_count": 57,
   "id": "676c8f20-ec7d-4dca-aa09-dfb93c2a29cc",
   "metadata": {},
   "outputs": [],
   "source": [
    "for i in l[0:0:-1]:\n",
    "    print(i)"
   ]
  },
  {
   "cell_type": "code",
   "execution_count": 63,
   "id": "e6ec6714-3c78-4083-99ad-70bfe98f1a45",
   "metadata": {},
   "outputs": [
    {
     "data": {
      "text/plain": [
       "[]"
      ]
     },
     "execution_count": 63,
     "metadata": {},
     "output_type": "execute_result"
    }
   ],
   "source": [
    "l[-6:0:-1]"
   ]
  },
  {
   "cell_type": "code",
   "execution_count": 64,
   "id": "46f59a46-2e59-4725-bc24-684ff64f0088",
   "metadata": {},
   "outputs": [
    {
     "ename": "SyntaxError",
     "evalue": "invalid syntax. Perhaps you forgot a comma? (3592817931.py, line 1)",
     "output_type": "error",
     "traceback": [
      "\u001b[0;36m  Cell \u001b[0;32mIn[64], line 1\u001b[0;36m\u001b[0m\n\u001b[0;31m    for i in list(range(len(l)0,-1,-1))\u001b[0m\n\u001b[0m                        ^\u001b[0m\n\u001b[0;31mSyntaxError\u001b[0m\u001b[0;31m:\u001b[0m invalid syntax. Perhaps you forgot a comma?\n"
     ]
    }
   ],
   "source": [
    "for i in list(range(len(l)0,-1,-1))"
   ]
  },
  {
   "cell_type": "code",
   "execution_count": 65,
   "id": "22727cd1-3658-4fec-9159-b3f6846e0080",
   "metadata": {},
   "outputs": [],
   "source": [
    "l=['rohit','rishi','kumar','patil']"
   ]
  },
  {
   "cell_type": "code",
   "execution_count": 66,
   "id": "e7431db9-1f97-4548-b065-db965a76a716",
   "metadata": {},
   "outputs": [
    {
     "data": {
      "text/plain": [
       "['rohit', 'rishi', 'kumar', 'patil']"
      ]
     },
     "execution_count": 66,
     "metadata": {},
     "output_type": "execute_result"
    }
   ],
   "source": [
    "l"
   ]
  },
  {
   "cell_type": "code",
   "execution_count": 68,
   "id": "c0cb6857-0bf7-411b-a86d-829fa0655124",
   "metadata": {},
   "outputs": [
    {
     "data": {
      "text/plain": [
       "4"
      ]
     },
     "execution_count": 68,
     "metadata": {},
     "output_type": "execute_result"
    }
   ],
   "source": [
    "len(l)"
   ]
  },
  {
   "cell_type": "code",
   "execution_count": 69,
   "id": "fa840f41-c3fe-442d-9419-3ba2a4edecb4",
   "metadata": {},
   "outputs": [
    {
     "data": {
      "text/plain": [
       "range(0, 4)"
      ]
     },
     "execution_count": 69,
     "metadata": {},
     "output_type": "execute_result"
    }
   ],
   "source": [
    "range(len(l))"
   ]
  },
  {
   "cell_type": "code",
   "execution_count": 70,
   "id": "adeb59d7-2d87-4fa7-ac3c-1643b6feb082",
   "metadata": {},
   "outputs": [
    {
     "data": {
      "text/plain": [
       "[0, 1, 2, 3]"
      ]
     },
     "execution_count": 70,
     "metadata": {},
     "output_type": "execute_result"
    }
   ],
   "source": [
    "list(range(len(l)))"
   ]
  },
  {
   "cell_type": "code",
   "execution_count": 71,
   "id": "761ea640-4a04-44d6-a253-b6bc041e14f7",
   "metadata": {},
   "outputs": [
    {
     "data": {
      "text/plain": [
       "[3, 2, 1, 0]"
      ]
     },
     "execution_count": 71,
     "metadata": {},
     "output_type": "execute_result"
    }
   ],
   "source": [
    "list(range(len(l)-1,-1,-1))"
   ]
  },
  {
   "cell_type": "code",
   "execution_count": 73,
   "id": "bf618057-52a2-4f23-8711-b7be0be5c7d0",
   "metadata": {},
   "outputs": [
    {
     "name": "stdout",
     "output_type": "stream",
     "text": [
      "patil\n",
      "kumar\n",
      "rishi\n",
      "rohit\n"
     ]
    }
   ],
   "source": [
    "for i in range(len(l)-1,-1,-1):\n",
    "    print(l[i])"
   ]
  },
  {
   "cell_type": "code",
   "execution_count": 74,
   "id": "4a6aa8fb-a4a9-4147-b186-7279b2fab0fb",
   "metadata": {},
   "outputs": [
    {
     "ename": "SyntaxError",
     "evalue": "invalid syntax (504353372.py, line 1)",
     "output_type": "error",
     "traceback": [
      "\u001b[0;36m  Cell \u001b[0;32mIn[74], line 1\u001b[0;36m\u001b[0m\n\u001b[0;31m    l[]\u001b[0m\n\u001b[0m      ^\u001b[0m\n\u001b[0;31mSyntaxError\u001b[0m\u001b[0;31m:\u001b[0m invalid syntax\n"
     ]
    }
   ],
   "source": [
    "l[]"
   ]
  },
  {
   "cell_type": "code",
   "execution_count": 75,
   "id": "be67d619-550e-4006-9e16-82a0be4c2e5a",
   "metadata": {},
   "outputs": [
    {
     "data": {
      "text/plain": [
       "'rohit'"
      ]
     },
     "execution_count": 75,
     "metadata": {},
     "output_type": "execute_result"
    }
   ],
   "source": [
    "l[0]"
   ]
  },
  {
   "cell_type": "code",
   "execution_count": 77,
   "id": "94fd4052-dd82-42f0-842c-820130f802bd",
   "metadata": {},
   "outputs": [
    {
     "name": "stdout",
     "output_type": "stream",
     "text": [
      "rohit\n",
      "rishi\n",
      "kumar\n",
      "patil\n"
     ]
    }
   ],
   "source": [
    "for i in range(len(l)):\n",
    "    print(l[i])"
   ]
  },
  {
   "cell_type": "code",
   "execution_count": 78,
   "id": "e7de47c5-7cfd-401e-94cb-e5a4f10061ec",
   "metadata": {},
   "outputs": [],
   "source": [
    "l2=[23,5,45,56,6,67,67,78,87,8998,9,9,8]"
   ]
  },
  {
   "cell_type": "code",
   "execution_count": 79,
   "id": "a62a6ff5-3795-4a2c-9dfa-67f201d196ea",
   "metadata": {},
   "outputs": [
    {
     "data": {
      "text/plain": [
       "[23, 5, 45, 56, 6, 67, 67, 78, 87, 8998, 9, 9, 8]"
      ]
     },
     "execution_count": 79,
     "metadata": {},
     "output_type": "execute_result"
    }
   ],
   "source": [
    "l2"
   ]
  },
  {
   "cell_type": "code",
   "execution_count": 80,
   "id": "0d22130a-2fee-46c5-b991-5220b1a6dbc1",
   "metadata": {},
   "outputs": [
    {
     "data": {
      "text/plain": [
       "list"
      ]
     },
     "execution_count": 80,
     "metadata": {},
     "output_type": "execute_result"
    }
   ],
   "source": [
    "type(l2)"
   ]
  },
  {
   "cell_type": "code",
   "execution_count": 84,
   "id": "f0e40178-78f1-4ee5-8c59-3331e08b9aec",
   "metadata": {},
   "outputs": [
    {
     "data": {
      "text/plain": [
       "13"
      ]
     },
     "execution_count": 84,
     "metadata": {},
     "output_type": "execute_result"
    }
   ],
   "source": [
    "len(l2)"
   ]
  },
  {
   "cell_type": "code",
   "execution_count": 93,
   "id": "fbe24e3d-6b66-4a31-8f84-acd980125168",
   "metadata": {},
   "outputs": [
    {
     "data": {
      "text/plain": [
       "[0, 2, 4, 6, 8, 10, 12]"
      ]
     },
     "execution_count": 93,
     "metadata": {},
     "output_type": "execute_result"
    }
   ],
   "source": [
    "list(range(0,len(l2),2))"
   ]
  },
  {
   "cell_type": "code",
   "execution_count": 96,
   "id": "d3aa88aa-da0c-418b-b910-007973aa100f",
   "metadata": {},
   "outputs": [
    {
     "name": "stdout",
     "output_type": "stream",
     "text": [
      "23\n",
      "45\n",
      "6\n",
      "67\n",
      "87\n",
      "9\n",
      "8\n"
     ]
    }
   ],
   "source": [
    "for i in range(0,len(l2),2):\n",
    "    print(l2[i])"
   ]
  },
  {
   "cell_type": "code",
   "execution_count": 97,
   "id": "5b871d5e-b101-4910-9616-54c5ce086523",
   "metadata": {},
   "outputs": [],
   "source": [
    "l=[1,2,3,4,7,98]"
   ]
  },
  {
   "cell_type": "code",
   "execution_count": 98,
   "id": "b7a720df-9c7b-416d-b56a-60966595481e",
   "metadata": {},
   "outputs": [
    {
     "data": {
      "text/plain": [
       "115"
      ]
     },
     "execution_count": 98,
     "metadata": {},
     "output_type": "execute_result"
    }
   ],
   "source": [
    "sum(l)"
   ]
  },
  {
   "cell_type": "code",
   "execution_count": 104,
   "id": "27185d04-c750-47b4-b737-202ba010cf03",
   "metadata": {},
   "outputs": [
    {
     "data": {
      "text/plain": [
       "-115"
      ]
     },
     "execution_count": 104,
     "metadata": {},
     "output_type": "execute_result"
    }
   ],
   "source": [
    "result=0\n",
    "for i in l:\n",
    "    result =result-i\n",
    "result   "
   ]
  },
  {
   "cell_type": "code",
   "execution_count": 106,
   "id": "b3d909ee-8963-4f35-8d7c-07d636ae1560",
   "metadata": {},
   "outputs": [],
   "source": [
    "d={'name':'rohit','class': 'cse','subject':['data science'\n",
    "                                           'python']}"
   ]
  },
  {
   "cell_type": "code",
   "execution_count": 107,
   "id": "b6920c01-0df0-4d10-b9a2-de4593c662a3",
   "metadata": {},
   "outputs": [
    {
     "data": {
      "text/plain": [
       "{'name': 'rohit', 'class': 'cse', 'subject': ['data sciencepython']}"
      ]
     },
     "execution_count": 107,
     "metadata": {},
     "output_type": "execute_result"
    }
   ],
   "source": [
    "d"
   ]
  },
  {
   "cell_type": "code",
   "execution_count": 108,
   "id": "625fc007-6dda-4ff8-af4f-af2ad04505d7",
   "metadata": {},
   "outputs": [
    {
     "name": "stdout",
     "output_type": "stream",
     "text": [
      "name\n",
      "class\n",
      "subject\n"
     ]
    }
   ],
   "source": [
    "for i in d.keys():\n",
    "    print(i)"
   ]
  },
  {
   "cell_type": "code",
   "execution_count": 109,
   "id": "202a17a7-f6d1-4906-a7fc-9e35d0fef54a",
   "metadata": {},
   "outputs": [
    {
     "name": "stdout",
     "output_type": "stream",
     "text": [
      "rohit\n",
      "cse\n",
      "['data sciencepython']\n"
     ]
    }
   ],
   "source": [
    "for i in d.keys():\n",
    "    print(d[i])"
   ]
  },
  {
   "cell_type": "code",
   "execution_count": 110,
   "id": "fe68a3bd-ed68-4925-9540-0c5f08ac07d0",
   "metadata": {},
   "outputs": [
    {
     "name": "stdout",
     "output_type": "stream",
     "text": [
      "rohit\n",
      "cse\n",
      "['data sciencepython']\n"
     ]
    }
   ],
   "source": [
    "for i in d.values():\n",
    "    print(i)"
   ]
  },
  {
   "cell_type": "code",
   "execution_count": null,
   "id": "e62fcb52-3b66-42c0-b98b-5e1eb0f3738a",
   "metadata": {},
   "outputs": [],
   "source": [
    "for i in d"
   ]
  }
 ],
 "metadata": {
  "kernelspec": {
   "display_name": "Python 3 (ipykernel)",
   "language": "python",
   "name": "python3"
  },
  "language_info": {
   "codemirror_mode": {
    "name": "ipython",
    "version": 3
   },
   "file_extension": ".py",
   "mimetype": "text/x-python",
   "name": "python",
   "nbconvert_exporter": "python",
   "pygments_lexer": "ipython3",
   "version": "3.10.8"
  }
 },
 "nbformat": 4,
 "nbformat_minor": 5
}
